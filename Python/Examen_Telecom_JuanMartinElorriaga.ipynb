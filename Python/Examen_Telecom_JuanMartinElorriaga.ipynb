{
 "cells": [
  {
   "cell_type": "markdown",
   "metadata": {},
   "source": [
    "# EXAMEN TELECOM - Juan Martín Elorriaga <a id='inicio'></a>"
   ]
  },
  {
   "cell_type": "markdown",
   "metadata": {},
   "source": [
    "Para los archivos de origen, véase: [repositorio](https://drive.google.com/drive/folders/1YoDJTtHgTSlhmhtQPBCNoz32ntHhRDTv)"
   ]
  },
  {
   "cell_type": "markdown",
   "metadata": {},
   "source": [
    "[Ejercicio 1](#ej1) | \n",
    "[Ejercicio 2](#ej2) | \n",
    "[Ejercicio 3](#ej3) | \n",
    "[Ejercicio 4](#ej4) | \n",
    "[Ejercicio 5](#ej5) | \n",
    "[Ejercicio 6](#ej6) | \n",
    "[Ejercicio 7](#ej7) "
   ]
  },
  {
   "cell_type": "markdown",
   "metadata": {},
   "source": [
    "Importación de librerías. Para los ejercicios pensados en SQL se utilizará la API *pandasql*."
   ]
  },
  {
   "cell_type": "code",
   "execution_count": 1,
   "metadata": {},
   "outputs": [],
   "source": [
    "import pandas as pd\n",
    "import pandasql as SQL\n",
    "%matplotlib inline\n",
    "import matplotlib.pyplot as plt\n",
    "import seaborn as sns"
   ]
  },
  {
   "cell_type": "markdown",
   "metadata": {},
   "source": [
    "Carga de archivos desde entorno local"
   ]
  },
  {
   "cell_type": "code",
   "execution_count": 2,
   "metadata": {},
   "outputs": [],
   "source": [
    "PATH = r\"C:\\Users\\juanm\\OneDrive\\Documentos\\Python_Scripts\\examen_telecom\\\\\"\n",
    "cliente     = pd.read_csv(PATH + \"cliente.csv\",     sep=\";\", encoding='latin-1')\n",
    "facturacion = pd.read_csv(PATH + \"facturacion.csv\", sep=\";\", encoding='latin-1')\n",
    "llamadas    = pd.read_csv(PATH + \"llamadas.csv\",    sep=\";\", encoding='latin-1')\n",
    "provincia   = pd.read_csv(PATH + \"provincia.csv\",   sep=\";\", encoding='latin-1')"
   ]
  },
  {
   "cell_type": "markdown",
   "metadata": {},
   "source": [
    "Exploración de las distintas tablas disponibles"
   ]
  },
  {
   "cell_type": "code",
   "execution_count": 3,
   "metadata": {},
   "outputs": [
    {
     "data": {
      "text/html": [
       "<div>\n",
       "<style scoped>\n",
       "    .dataframe tbody tr th:only-of-type {\n",
       "        vertical-align: middle;\n",
       "    }\n",
       "\n",
       "    .dataframe tbody tr th {\n",
       "        vertical-align: top;\n",
       "    }\n",
       "\n",
       "    .dataframe thead th {\n",
       "        text-align: right;\n",
       "    }\n",
       "</style>\n",
       "<table border=\"1\" class=\"dataframe\">\n",
       "  <thead>\n",
       "    <tr style=\"text-align: right;\">\n",
       "      <th></th>\n",
       "      <th>Plan_mes</th>\n",
       "      <th>mes</th>\n",
       "      <th>nro_cliente</th>\n",
       "    </tr>\n",
       "  </thead>\n",
       "  <tbody>\n",
       "    <tr>\n",
       "      <th>0</th>\n",
       "      <td>95729</td>\n",
       "      <td>1</td>\n",
       "      <td>1</td>\n",
       "    </tr>\n",
       "    <tr>\n",
       "      <th>1</th>\n",
       "      <td>96410</td>\n",
       "      <td>1</td>\n",
       "      <td>3</td>\n",
       "    </tr>\n",
       "    <tr>\n",
       "      <th>2</th>\n",
       "      <td>96400</td>\n",
       "      <td>1</td>\n",
       "      <td>2</td>\n",
       "    </tr>\n",
       "    <tr>\n",
       "      <th>3</th>\n",
       "      <td>95729</td>\n",
       "      <td>1</td>\n",
       "      <td>5</td>\n",
       "    </tr>\n",
       "    <tr>\n",
       "      <th>4</th>\n",
       "      <td>95420</td>\n",
       "      <td>1</td>\n",
       "      <td>4</td>\n",
       "    </tr>\n",
       "  </tbody>\n",
       "</table>\n",
       "</div>"
      ],
      "text/plain": [
       "   Plan_mes  mes  nro_cliente\n",
       "0     95729    1            1\n",
       "1     96410    1            3\n",
       "2     96400    1            2\n",
       "3     95729    1            5\n",
       "4     95420    1            4"
      ]
     },
     "execution_count": 3,
     "metadata": {},
     "output_type": "execute_result"
    }
   ],
   "source": [
    "cliente.head(5)"
   ]
  },
  {
   "cell_type": "code",
   "execution_count": 4,
   "metadata": {},
   "outputs": [
    {
     "data": {
      "text/html": [
       "<div>\n",
       "<style scoped>\n",
       "    .dataframe tbody tr th:only-of-type {\n",
       "        vertical-align: middle;\n",
       "    }\n",
       "\n",
       "    .dataframe tbody tr th {\n",
       "        vertical-align: top;\n",
       "    }\n",
       "\n",
       "    .dataframe thead th {\n",
       "        text-align: right;\n",
       "    }\n",
       "</style>\n",
       "<table border=\"1\" class=\"dataframe\">\n",
       "  <thead>\n",
       "    <tr style=\"text-align: right;\">\n",
       "      <th></th>\n",
       "      <th>facturacion</th>\n",
       "      <th>nro_cliente</th>\n",
       "      <th>mes</th>\n",
       "    </tr>\n",
       "  </thead>\n",
       "  <tbody>\n",
       "    <tr>\n",
       "      <th>0</th>\n",
       "      <td>935.8301</td>\n",
       "      <td>1</td>\n",
       "      <td>1</td>\n",
       "    </tr>\n",
       "    <tr>\n",
       "      <th>1</th>\n",
       "      <td>1352.8632</td>\n",
       "      <td>2</td>\n",
       "      <td>1</td>\n",
       "    </tr>\n",
       "    <tr>\n",
       "      <th>2</th>\n",
       "      <td>602.0372</td>\n",
       "      <td>3</td>\n",
       "      <td>1</td>\n",
       "    </tr>\n",
       "    <tr>\n",
       "      <th>3</th>\n",
       "      <td>847.5758</td>\n",
       "      <td>4</td>\n",
       "      <td>1</td>\n",
       "    </tr>\n",
       "    <tr>\n",
       "      <th>4</th>\n",
       "      <td>423.7930</td>\n",
       "      <td>5</td>\n",
       "      <td>1</td>\n",
       "    </tr>\n",
       "  </tbody>\n",
       "</table>\n",
       "</div>"
      ],
      "text/plain": [
       "   facturacion  nro_cliente  mes\n",
       "0     935.8301            1    1\n",
       "1    1352.8632            2    1\n",
       "2     602.0372            3    1\n",
       "3     847.5758            4    1\n",
       "4     423.7930            5    1"
      ]
     },
     "execution_count": 4,
     "metadata": {},
     "output_type": "execute_result"
    }
   ],
   "source": [
    "facturacion.head(5)"
   ]
  },
  {
   "cell_type": "code",
   "execution_count": 5,
   "metadata": {},
   "outputs": [
    {
     "data": {
      "text/html": [
       "<div>\n",
       "<style scoped>\n",
       "    .dataframe tbody tr th:only-of-type {\n",
       "        vertical-align: middle;\n",
       "    }\n",
       "\n",
       "    .dataframe tbody tr th {\n",
       "        vertical-align: top;\n",
       "    }\n",
       "\n",
       "    .dataframe thead th {\n",
       "        text-align: right;\n",
       "    }\n",
       "</style>\n",
       "<table border=\"1\" class=\"dataframe\">\n",
       "  <thead>\n",
       "    <tr style=\"text-align: right;\">\n",
       "      <th></th>\n",
       "      <th>Cantidad_Llamadas</th>\n",
       "      <th>Duracion_Llamadas_minutos</th>\n",
       "      <th>nro_cliente</th>\n",
       "      <th>mes</th>\n",
       "      <th>tipo_llamada</th>\n",
       "    </tr>\n",
       "  </thead>\n",
       "  <tbody>\n",
       "    <tr>\n",
       "      <th>0</th>\n",
       "      <td>1</td>\n",
       "      <td>285</td>\n",
       "      <td>41</td>\n",
       "      <td>1</td>\n",
       "      <td>Saliente</td>\n",
       "    </tr>\n",
       "    <tr>\n",
       "      <th>1</th>\n",
       "      <td>1</td>\n",
       "      <td>30</td>\n",
       "      <td>42</td>\n",
       "      <td>1</td>\n",
       "      <td>Saliente</td>\n",
       "    </tr>\n",
       "    <tr>\n",
       "      <th>2</th>\n",
       "      <td>1</td>\n",
       "      <td>30</td>\n",
       "      <td>92</td>\n",
       "      <td>1</td>\n",
       "      <td>Saliente</td>\n",
       "    </tr>\n",
       "    <tr>\n",
       "      <th>3</th>\n",
       "      <td>1</td>\n",
       "      <td>30</td>\n",
       "      <td>94</td>\n",
       "      <td>1</td>\n",
       "      <td>Saliente</td>\n",
       "    </tr>\n",
       "    <tr>\n",
       "      <th>4</th>\n",
       "      <td>1</td>\n",
       "      <td>80</td>\n",
       "      <td>131</td>\n",
       "      <td>1</td>\n",
       "      <td>Saliente</td>\n",
       "    </tr>\n",
       "  </tbody>\n",
       "</table>\n",
       "</div>"
      ],
      "text/plain": [
       "   Cantidad_Llamadas  Duracion_Llamadas_minutos  nro_cliente  mes tipo_llamada\n",
       "0                  1                        285           41    1     Saliente\n",
       "1                  1                         30           42    1     Saliente\n",
       "2                  1                         30           92    1     Saliente\n",
       "3                  1                         30           94    1     Saliente\n",
       "4                  1                         80          131    1     Saliente"
      ]
     },
     "execution_count": 5,
     "metadata": {},
     "output_type": "execute_result"
    }
   ],
   "source": [
    "llamadas.head(5)"
   ]
  },
  {
   "cell_type": "code",
   "execution_count": 6,
   "metadata": {},
   "outputs": [
    {
     "data": {
      "text/html": [
       "<div>\n",
       "<style scoped>\n",
       "    .dataframe tbody tr th:only-of-type {\n",
       "        vertical-align: middle;\n",
       "    }\n",
       "\n",
       "    .dataframe tbody tr th {\n",
       "        vertical-align: top;\n",
       "    }\n",
       "\n",
       "    .dataframe thead th {\n",
       "        text-align: right;\n",
       "    }\n",
       "</style>\n",
       "<table border=\"1\" class=\"dataframe\">\n",
       "  <thead>\n",
       "    <tr style=\"text-align: right;\">\n",
       "      <th></th>\n",
       "      <th>provincia</th>\n",
       "      <th>nro_cliente</th>\n",
       "    </tr>\n",
       "  </thead>\n",
       "  <tbody>\n",
       "    <tr>\n",
       "      <th>0</th>\n",
       "      <td>Chaco</td>\n",
       "      <td>1</td>\n",
       "    </tr>\n",
       "    <tr>\n",
       "      <th>1</th>\n",
       "      <td>Santa Fe</td>\n",
       "      <td>2</td>\n",
       "    </tr>\n",
       "    <tr>\n",
       "      <th>2</th>\n",
       "      <td>Cordoba</td>\n",
       "      <td>3</td>\n",
       "    </tr>\n",
       "    <tr>\n",
       "      <th>3</th>\n",
       "      <td>Salta</td>\n",
       "      <td>4</td>\n",
       "    </tr>\n",
       "    <tr>\n",
       "      <th>4</th>\n",
       "      <td>Santa Fe</td>\n",
       "      <td>5</td>\n",
       "    </tr>\n",
       "    <tr>\n",
       "      <th>5</th>\n",
       "      <td>Corrientes</td>\n",
       "      <td>6</td>\n",
       "    </tr>\n",
       "    <tr>\n",
       "      <th>6</th>\n",
       "      <td>Santa Fe</td>\n",
       "      <td>7</td>\n",
       "    </tr>\n",
       "    <tr>\n",
       "      <th>7</th>\n",
       "      <td>Chaco</td>\n",
       "      <td>8</td>\n",
       "    </tr>\n",
       "    <tr>\n",
       "      <th>8</th>\n",
       "      <td>Buenos Aires</td>\n",
       "      <td>9</td>\n",
       "    </tr>\n",
       "    <tr>\n",
       "      <th>9</th>\n",
       "      <td>Chaco</td>\n",
       "      <td>10</td>\n",
       "    </tr>\n",
       "  </tbody>\n",
       "</table>\n",
       "</div>"
      ],
      "text/plain": [
       "      provincia  nro_cliente\n",
       "0         Chaco            1\n",
       "1      Santa Fe            2\n",
       "2       Cordoba            3\n",
       "3         Salta            4\n",
       "4      Santa Fe            5\n",
       "5    Corrientes            6\n",
       "6      Santa Fe            7\n",
       "7         Chaco            8\n",
       "8  Buenos Aires            9\n",
       "9         Chaco           10"
      ]
     },
     "execution_count": 6,
     "metadata": {},
     "output_type": "execute_result"
    }
   ],
   "source": [
    "provincia.head(10)"
   ]
  },
  {
   "cell_type": "markdown",
   "metadata": {},
   "source": [
    "## Ejercicio 1 <a id='ej1'></a> \n",
    "[Volver al inicio](#inicio)\n",
    "\n",
    "### Calcular la facturación promedio, máxima, mínima de los últimos tres meses de los clientes 12-15-20."
   ]
  },
  {
   "cell_type": "code",
   "execution_count": 7,
   "metadata": {},
   "outputs": [
    {
     "data": {
      "text/html": [
       "<div>\n",
       "<style scoped>\n",
       "    .dataframe tbody tr th:only-of-type {\n",
       "        vertical-align: middle;\n",
       "    }\n",
       "\n",
       "    .dataframe tbody tr th {\n",
       "        vertical-align: top;\n",
       "    }\n",
       "\n",
       "    .dataframe thead th {\n",
       "        text-align: right;\n",
       "    }\n",
       "</style>\n",
       "<table border=\"1\" class=\"dataframe\">\n",
       "  <thead>\n",
       "    <tr style=\"text-align: right;\">\n",
       "      <th></th>\n",
       "      <th>nro_cliente</th>\n",
       "      <th>facturacion promedio</th>\n",
       "      <th>facturacion maxima</th>\n",
       "      <th>facturacion minima</th>\n",
       "    </tr>\n",
       "  </thead>\n",
       "  <tbody>\n",
       "    <tr>\n",
       "      <th>0</th>\n",
       "      <td>12</td>\n",
       "      <td>586.132100</td>\n",
       "      <td>586.1321</td>\n",
       "      <td>586.1321</td>\n",
       "    </tr>\n",
       "    <tr>\n",
       "      <th>1</th>\n",
       "      <td>15</td>\n",
       "      <td>435.144133</td>\n",
       "      <td>485.4746</td>\n",
       "      <td>409.9789</td>\n",
       "    </tr>\n",
       "    <tr>\n",
       "      <th>2</th>\n",
       "      <td>20</td>\n",
       "      <td>541.834133</td>\n",
       "      <td>602.0372</td>\n",
       "      <td>511.7326</td>\n",
       "    </tr>\n",
       "  </tbody>\n",
       "</table>\n",
       "</div>"
      ],
      "text/plain": [
       "   nro_cliente  facturacion promedio  facturacion maxima  facturacion minima\n",
       "0           12            586.132100            586.1321            586.1321\n",
       "1           15            435.144133            485.4746            409.9789\n",
       "2           20            541.834133            602.0372            511.7326"
      ]
     },
     "execution_count": 7,
     "metadata": {},
     "output_type": "execute_result"
    }
   ],
   "source": [
    "SQL.sqldf(\n",
    "    \"\"\"\n",
    "    SELECT nro_cliente, AVG(facturacion) \"facturacion promedio\", MAX(facturacion) \"facturacion maxima\", MIN(facturacion) \"facturacion minima\" \n",
    "    FROM facturacion \n",
    "    WHERE  nro_cliente IN (12, 15, 20) AND mes IN (1, 2, 3)\n",
    "    GROUP BY nro_cliente \n",
    "    \"\"\"\n",
    "         )"
   ]
  },
  {
   "cell_type": "markdown",
   "metadata": {},
   "source": [
    "### Ejercicio 1 bis (*alternativa en caso de que se deseen los montos de cada uno de los tres meses ...*)\n"
   ]
  },
  {
   "cell_type": "code",
   "execution_count": 8,
   "metadata": {},
   "outputs": [
    {
     "data": {
      "text/html": [
       "<div>\n",
       "<style scoped>\n",
       "    .dataframe tbody tr th:only-of-type {\n",
       "        vertical-align: middle;\n",
       "    }\n",
       "\n",
       "    .dataframe tbody tr th {\n",
       "        vertical-align: top;\n",
       "    }\n",
       "\n",
       "    .dataframe thead th {\n",
       "        text-align: right;\n",
       "    }\n",
       "</style>\n",
       "<table border=\"1\" class=\"dataframe\">\n",
       "  <thead>\n",
       "    <tr style=\"text-align: right;\">\n",
       "      <th></th>\n",
       "      <th>nro_cliente</th>\n",
       "      <th>mes</th>\n",
       "      <th>promedio facturacion</th>\n",
       "      <th>facturacion maxima</th>\n",
       "      <th>facturacion minima</th>\n",
       "    </tr>\n",
       "  </thead>\n",
       "  <tbody>\n",
       "    <tr>\n",
       "      <th>0</th>\n",
       "      <td>12</td>\n",
       "      <td>1</td>\n",
       "      <td>586.1321</td>\n",
       "      <td>586.1321</td>\n",
       "      <td>586.1321</td>\n",
       "    </tr>\n",
       "    <tr>\n",
       "      <th>1</th>\n",
       "      <td>12</td>\n",
       "      <td>2</td>\n",
       "      <td>586.1321</td>\n",
       "      <td>586.1321</td>\n",
       "      <td>586.1321</td>\n",
       "    </tr>\n",
       "    <tr>\n",
       "      <th>2</th>\n",
       "      <td>12</td>\n",
       "      <td>3</td>\n",
       "      <td>586.1321</td>\n",
       "      <td>586.1321</td>\n",
       "      <td>586.1321</td>\n",
       "    </tr>\n",
       "    <tr>\n",
       "      <th>3</th>\n",
       "      <td>15</td>\n",
       "      <td>1</td>\n",
       "      <td>409.9789</td>\n",
       "      <td>409.9789</td>\n",
       "      <td>409.9789</td>\n",
       "    </tr>\n",
       "    <tr>\n",
       "      <th>4</th>\n",
       "      <td>15</td>\n",
       "      <td>2</td>\n",
       "      <td>409.9789</td>\n",
       "      <td>409.9789</td>\n",
       "      <td>409.9789</td>\n",
       "    </tr>\n",
       "    <tr>\n",
       "      <th>5</th>\n",
       "      <td>15</td>\n",
       "      <td>3</td>\n",
       "      <td>485.4746</td>\n",
       "      <td>485.4746</td>\n",
       "      <td>485.4746</td>\n",
       "    </tr>\n",
       "    <tr>\n",
       "      <th>6</th>\n",
       "      <td>20</td>\n",
       "      <td>1</td>\n",
       "      <td>511.7326</td>\n",
       "      <td>511.7326</td>\n",
       "      <td>511.7326</td>\n",
       "    </tr>\n",
       "    <tr>\n",
       "      <th>7</th>\n",
       "      <td>20</td>\n",
       "      <td>2</td>\n",
       "      <td>511.7326</td>\n",
       "      <td>511.7326</td>\n",
       "      <td>511.7326</td>\n",
       "    </tr>\n",
       "    <tr>\n",
       "      <th>8</th>\n",
       "      <td>20</td>\n",
       "      <td>3</td>\n",
       "      <td>602.0372</td>\n",
       "      <td>602.0372</td>\n",
       "      <td>602.0372</td>\n",
       "    </tr>\n",
       "  </tbody>\n",
       "</table>\n",
       "</div>"
      ],
      "text/plain": [
       "   nro_cliente  mes  promedio facturacion  facturacion maxima  \\\n",
       "0           12    1              586.1321            586.1321   \n",
       "1           12    2              586.1321            586.1321   \n",
       "2           12    3              586.1321            586.1321   \n",
       "3           15    1              409.9789            409.9789   \n",
       "4           15    2              409.9789            409.9789   \n",
       "5           15    3              485.4746            485.4746   \n",
       "6           20    1              511.7326            511.7326   \n",
       "7           20    2              511.7326            511.7326   \n",
       "8           20    3              602.0372            602.0372   \n",
       "\n",
       "   facturacion minima  \n",
       "0            586.1321  \n",
       "1            586.1321  \n",
       "2            586.1321  \n",
       "3            409.9789  \n",
       "4            409.9789  \n",
       "5            485.4746  \n",
       "6            511.7326  \n",
       "7            511.7326  \n",
       "8            602.0372  "
      ]
     },
     "execution_count": 8,
     "metadata": {},
     "output_type": "execute_result"
    }
   ],
   "source": [
    "SQL.sqldf(\n",
    "    \"\"\"\n",
    "    SELECT nro_cliente, mes, AVG(facturacion) \"promedio facturacion\", MAX(facturacion) \"facturacion maxima\", MIN(facturacion) \"facturacion minima\" \n",
    "    FROM facturacion \n",
    "    WHERE  nro_cliente IN (12, 15, 20) AND mes IN (1, 2, 3)\n",
    "    GROUP BY nro_cliente, mes \n",
    "    \"\"\"\n",
    "         )"
   ]
  },
  {
   "cell_type": "markdown",
   "metadata": {},
   "source": [
    "## Ejercicio 2 <a id='ej2'></a>\n",
    "[Volver al inicio](#inicio)\n",
    "### Crear una marca en caso de que haya cambiado de plan en alguno de los tres meses."
   ]
  },
  {
   "cell_type": "markdown",
   "metadata": {},
   "source": [
    "Los valores de la variable representan la cantidad de planes utilizados por el cliente a lo largo de los meses 1, 2 y 3. En caso de que el valor sea igual a \"1\", entonces el cliente no realizó un cambio de plan durante dicho trimestre. \n",
    "**NOTA**: El resultado final no se ha subido al repositorio, ya que no se han otorgado permisos de escritura."
   ]
  },
  {
   "cell_type": "code",
   "execution_count": 9,
   "metadata": {},
   "outputs": [
    {
     "data": {
      "text/html": [
       "<div>\n",
       "<style scoped>\n",
       "    .dataframe tbody tr th:only-of-type {\n",
       "        vertical-align: middle;\n",
       "    }\n",
       "\n",
       "    .dataframe tbody tr th {\n",
       "        vertical-align: top;\n",
       "    }\n",
       "\n",
       "    .dataframe thead th {\n",
       "        text-align: right;\n",
       "    }\n",
       "</style>\n",
       "<table border=\"1\" class=\"dataframe\">\n",
       "  <thead>\n",
       "    <tr style=\"text-align: right;\">\n",
       "      <th></th>\n",
       "      <th>nro_cliente</th>\n",
       "      <th>numero de planes usados</th>\n",
       "    </tr>\n",
       "  </thead>\n",
       "  <tbody>\n",
       "    <tr>\n",
       "      <th>0</th>\n",
       "      <td>1</td>\n",
       "      <td>2</td>\n",
       "    </tr>\n",
       "    <tr>\n",
       "      <th>1</th>\n",
       "      <td>2</td>\n",
       "      <td>1</td>\n",
       "    </tr>\n",
       "    <tr>\n",
       "      <th>2</th>\n",
       "      <td>3</td>\n",
       "      <td>1</td>\n",
       "    </tr>\n",
       "    <tr>\n",
       "      <th>3</th>\n",
       "      <td>4</td>\n",
       "      <td>2</td>\n",
       "    </tr>\n",
       "    <tr>\n",
       "      <th>4</th>\n",
       "      <td>5</td>\n",
       "      <td>2</td>\n",
       "    </tr>\n",
       "    <tr>\n",
       "      <th>...</th>\n",
       "      <td>...</td>\n",
       "      <td>...</td>\n",
       "    </tr>\n",
       "    <tr>\n",
       "      <th>10895</th>\n",
       "      <td>10896</td>\n",
       "      <td>1</td>\n",
       "    </tr>\n",
       "    <tr>\n",
       "      <th>10896</th>\n",
       "      <td>10897</td>\n",
       "      <td>1</td>\n",
       "    </tr>\n",
       "    <tr>\n",
       "      <th>10897</th>\n",
       "      <td>10898</td>\n",
       "      <td>1</td>\n",
       "    </tr>\n",
       "    <tr>\n",
       "      <th>10898</th>\n",
       "      <td>10899</td>\n",
       "      <td>2</td>\n",
       "    </tr>\n",
       "    <tr>\n",
       "      <th>10899</th>\n",
       "      <td>10900</td>\n",
       "      <td>1</td>\n",
       "    </tr>\n",
       "  </tbody>\n",
       "</table>\n",
       "<p>10900 rows × 2 columns</p>\n",
       "</div>"
      ],
      "text/plain": [
       "       nro_cliente  numero de planes usados\n",
       "0                1                        2\n",
       "1                2                        1\n",
       "2                3                        1\n",
       "3                4                        2\n",
       "4                5                        2\n",
       "...            ...                      ...\n",
       "10895        10896                        1\n",
       "10896        10897                        1\n",
       "10897        10898                        1\n",
       "10898        10899                        2\n",
       "10899        10900                        1\n",
       "\n",
       "[10900 rows x 2 columns]"
      ]
     },
     "execution_count": 9,
     "metadata": {},
     "output_type": "execute_result"
    }
   ],
   "source": [
    "cliente_cambio_plan = SQL.sqldf(\n",
    "    \"\"\"\n",
    "    SELECT nro_cliente , COUNT(DISTINCT(Plan_mes)) \"numero de planes usados\"\n",
    "    FROM cliente\n",
    "    WHERE mes IN (1, 2, 3)\n",
    "    GROUP BY nro_cliente\n",
    "    --HAVING \"numero de planes usados\" > 1 --descomentar para filtrar aquellos que no cambiaron plan\n",
    "    \"\"\")\n",
    "cliente_cambio_plan\n",
    "\n",
    "#exportacion de .csv para subirlo al repositorio\n",
    "#cliente_cambio_plan.to_csv(\"flag_ejercicio_2.csv\", index=False, sep=';', encoding='latin-1')"
   ]
  },
  {
   "cell_type": "markdown",
   "metadata": {},
   "source": [
    "## Ejercicio 3 <a id='ej3'></a>\n",
    "[Volver al inicio](#inicio)\n",
    "### Cuantos clientes que se encuentran en CABA cambiaron de plan."
   ]
  },
  {
   "cell_type": "markdown",
   "metadata": {},
   "source": [
    "paso 1: uso de la tabla filtrada del ejercicio anterior para que sólo considere aquellos clientes que cambiaron de plan al menos 1 vez"
   ]
  },
  {
   "cell_type": "code",
   "execution_count": 10,
   "metadata": {},
   "outputs": [
    {
     "data": {
      "text/html": [
       "<div>\n",
       "<style scoped>\n",
       "    .dataframe tbody tr th:only-of-type {\n",
       "        vertical-align: middle;\n",
       "    }\n",
       "\n",
       "    .dataframe tbody tr th {\n",
       "        vertical-align: top;\n",
       "    }\n",
       "\n",
       "    .dataframe thead th {\n",
       "        text-align: right;\n",
       "    }\n",
       "</style>\n",
       "<table border=\"1\" class=\"dataframe\">\n",
       "  <thead>\n",
       "    <tr style=\"text-align: right;\">\n",
       "      <th></th>\n",
       "      <th>nro_cliente</th>\n",
       "      <th>numero de planes usados</th>\n",
       "    </tr>\n",
       "  </thead>\n",
       "  <tbody>\n",
       "    <tr>\n",
       "      <th>0</th>\n",
       "      <td>1</td>\n",
       "      <td>2</td>\n",
       "    </tr>\n",
       "    <tr>\n",
       "      <th>1</th>\n",
       "      <td>2</td>\n",
       "      <td>1</td>\n",
       "    </tr>\n",
       "    <tr>\n",
       "      <th>2</th>\n",
       "      <td>3</td>\n",
       "      <td>1</td>\n",
       "    </tr>\n",
       "    <tr>\n",
       "      <th>3</th>\n",
       "      <td>4</td>\n",
       "      <td>2</td>\n",
       "    </tr>\n",
       "    <tr>\n",
       "      <th>4</th>\n",
       "      <td>5</td>\n",
       "      <td>2</td>\n",
       "    </tr>\n",
       "    <tr>\n",
       "      <th>...</th>\n",
       "      <td>...</td>\n",
       "      <td>...</td>\n",
       "    </tr>\n",
       "    <tr>\n",
       "      <th>10895</th>\n",
       "      <td>10896</td>\n",
       "      <td>1</td>\n",
       "    </tr>\n",
       "    <tr>\n",
       "      <th>10896</th>\n",
       "      <td>10897</td>\n",
       "      <td>1</td>\n",
       "    </tr>\n",
       "    <tr>\n",
       "      <th>10897</th>\n",
       "      <td>10898</td>\n",
       "      <td>1</td>\n",
       "    </tr>\n",
       "    <tr>\n",
       "      <th>10898</th>\n",
       "      <td>10899</td>\n",
       "      <td>2</td>\n",
       "    </tr>\n",
       "    <tr>\n",
       "      <th>10899</th>\n",
       "      <td>10900</td>\n",
       "      <td>1</td>\n",
       "    </tr>\n",
       "  </tbody>\n",
       "</table>\n",
       "<p>10900 rows × 2 columns</p>\n",
       "</div>"
      ],
      "text/plain": [
       "       nro_cliente  numero de planes usados\n",
       "0                1                        2\n",
       "1                2                        1\n",
       "2                3                        1\n",
       "3                4                        2\n",
       "4                5                        2\n",
       "...            ...                      ...\n",
       "10895        10896                        1\n",
       "10896        10897                        1\n",
       "10897        10898                        1\n",
       "10898        10899                        2\n",
       "10899        10900                        1\n",
       "\n",
       "[10900 rows x 2 columns]"
      ]
     },
     "execution_count": 10,
     "metadata": {},
     "output_type": "execute_result"
    }
   ],
   "source": [
    "cliente_cambio_plan_si =  SQL.sqldf(\n",
    "    \"\"\"\n",
    "    SELECT nro_cliente , COUNT(DISTINCT(Plan_mes)) \"numero de planes usados\"\n",
    "    FROM cliente\n",
    "    WHERE mes IN (1, 2, 3)\n",
    "    GROUP BY nro_cliente\n",
    "    HAVING \"numero de planes usados\" > 1\n",
    "    \"\"\"\n",
    ")\n",
    "cliente_cambio_plan"
   ]
  },
  {
   "cell_type": "markdown",
   "metadata": {},
   "source": [
    "paso 2: uso de flag para reconocer a los clientes de CABA que cambiaron de plan, mostrados en la tabla \"provincia\""
   ]
  },
  {
   "cell_type": "code",
   "execution_count": 11,
   "metadata": {},
   "outputs": [
    {
     "data": {
      "text/html": [
       "<div>\n",
       "<style scoped>\n",
       "    .dataframe tbody tr th:only-of-type {\n",
       "        vertical-align: middle;\n",
       "    }\n",
       "\n",
       "    .dataframe tbody tr th {\n",
       "        vertical-align: top;\n",
       "    }\n",
       "\n",
       "    .dataframe thead th {\n",
       "        text-align: right;\n",
       "    }\n",
       "</style>\n",
       "<table border=\"1\" class=\"dataframe\">\n",
       "  <thead>\n",
       "    <tr style=\"text-align: right;\">\n",
       "      <th></th>\n",
       "      <th>provincia</th>\n",
       "      <th>nro_cliente</th>\n",
       "      <th>numero de planes usados</th>\n",
       "    </tr>\n",
       "  </thead>\n",
       "  <tbody>\n",
       "    <tr>\n",
       "      <th>0</th>\n",
       "      <td>Ciudad Autonoma De Buenos Aire</td>\n",
       "      <td>18</td>\n",
       "      <td>2</td>\n",
       "    </tr>\n",
       "    <tr>\n",
       "      <th>1</th>\n",
       "      <td>Ciudad Autonoma De Buenos Aire</td>\n",
       "      <td>47</td>\n",
       "      <td>2</td>\n",
       "    </tr>\n",
       "    <tr>\n",
       "      <th>2</th>\n",
       "      <td>Ciudad Autonoma De Buenos Aire</td>\n",
       "      <td>57</td>\n",
       "      <td>2</td>\n",
       "    </tr>\n",
       "    <tr>\n",
       "      <th>3</th>\n",
       "      <td>Ciudad Autonoma De Buenos Aire</td>\n",
       "      <td>65</td>\n",
       "      <td>2</td>\n",
       "    </tr>\n",
       "    <tr>\n",
       "      <th>4</th>\n",
       "      <td>Ciudad Autonoma De Buenos Aire</td>\n",
       "      <td>67</td>\n",
       "      <td>2</td>\n",
       "    </tr>\n",
       "    <tr>\n",
       "      <th>...</th>\n",
       "      <td>...</td>\n",
       "      <td>...</td>\n",
       "      <td>...</td>\n",
       "    </tr>\n",
       "    <tr>\n",
       "      <th>701</th>\n",
       "      <td>Ciudad Autonoma De Buenos Aire</td>\n",
       "      <td>10696</td>\n",
       "      <td>2</td>\n",
       "    </tr>\n",
       "    <tr>\n",
       "      <th>702</th>\n",
       "      <td>Ciudad Autonoma De Buenos Aire</td>\n",
       "      <td>10697</td>\n",
       "      <td>2</td>\n",
       "    </tr>\n",
       "    <tr>\n",
       "      <th>703</th>\n",
       "      <td>Ciudad Autonoma De Buenos Aire</td>\n",
       "      <td>10722</td>\n",
       "      <td>2</td>\n",
       "    </tr>\n",
       "    <tr>\n",
       "      <th>704</th>\n",
       "      <td>Ciudad Autonoma De Buenos Aire</td>\n",
       "      <td>10793</td>\n",
       "      <td>2</td>\n",
       "    </tr>\n",
       "    <tr>\n",
       "      <th>705</th>\n",
       "      <td>Ciudad Autonoma De Buenos Aire</td>\n",
       "      <td>10849</td>\n",
       "      <td>2</td>\n",
       "    </tr>\n",
       "  </tbody>\n",
       "</table>\n",
       "<p>706 rows × 3 columns</p>\n",
       "</div>"
      ],
      "text/plain": [
       "                          provincia  nro_cliente  numero de planes usados\n",
       "0    Ciudad Autonoma De Buenos Aire           18                        2\n",
       "1    Ciudad Autonoma De Buenos Aire           47                        2\n",
       "2    Ciudad Autonoma De Buenos Aire           57                        2\n",
       "3    Ciudad Autonoma De Buenos Aire           65                        2\n",
       "4    Ciudad Autonoma De Buenos Aire           67                        2\n",
       "..                              ...          ...                      ...\n",
       "701  Ciudad Autonoma De Buenos Aire        10696                        2\n",
       "702  Ciudad Autonoma De Buenos Aire        10697                        2\n",
       "703  Ciudad Autonoma De Buenos Aire        10722                        2\n",
       "704  Ciudad Autonoma De Buenos Aire        10793                        2\n",
       "705  Ciudad Autonoma De Buenos Aire        10849                        2\n",
       "\n",
       "[706 rows x 3 columns]"
      ]
     },
     "execution_count": 11,
     "metadata": {},
     "output_type": "execute_result"
    }
   ],
   "source": [
    "CABA_cambio_plan = SQL.sqldf(\"\"\"\n",
    "SELECT p.provincia, p.nro_cliente, c.\"numero de planes usados\"\n",
    "FROM provincia p \n",
    "INNER JOIN cliente_cambio_plan_si c ON\n",
    "p.nro_cliente = c.nro_cliente\n",
    "WHERE provincia LIKE \\\"Ciudad Aut%\\\"\n",
    "\"\"\")\n",
    "CABA_cambio_plan"
   ]
  },
  {
   "cell_type": "markdown",
   "metadata": {},
   "source": [
    "paso 3 (*opcional*): en caso de que se desee únicamente el conteo final ..."
   ]
  },
  {
   "cell_type": "code",
   "execution_count": 12,
   "metadata": {},
   "outputs": [
    {
     "data": {
      "text/html": [
       "<div>\n",
       "<style scoped>\n",
       "    .dataframe tbody tr th:only-of-type {\n",
       "        vertical-align: middle;\n",
       "    }\n",
       "\n",
       "    .dataframe tbody tr th {\n",
       "        vertical-align: top;\n",
       "    }\n",
       "\n",
       "    .dataframe thead th {\n",
       "        text-align: right;\n",
       "    }\n",
       "</style>\n",
       "<table border=\"1\" class=\"dataframe\">\n",
       "  <thead>\n",
       "    <tr style=\"text-align: right;\">\n",
       "      <th></th>\n",
       "      <th>conteo final CABA</th>\n",
       "    </tr>\n",
       "  </thead>\n",
       "  <tbody>\n",
       "    <tr>\n",
       "      <th>0</th>\n",
       "      <td>706</td>\n",
       "    </tr>\n",
       "  </tbody>\n",
       "</table>\n",
       "</div>"
      ],
      "text/plain": [
       "   conteo final CABA\n",
       "0                706"
      ]
     },
     "execution_count": 12,
     "metadata": {},
     "output_type": "execute_result"
    }
   ],
   "source": [
    "SQL.sqldf(\"SELECT COUNT(1) \\\"conteo final CABA\\\" FROM CABA_cambio_plan\")"
   ]
  },
  {
   "cell_type": "markdown",
   "metadata": {},
   "source": [
    "## Ejercicio 4 <a id='ej4'></a>\n",
    "[Volver al inicio](#inicio)\n",
    "### Que provincia tiene la facturación promedio trimestral más alta"
   ]
  },
  {
   "cell_type": "markdown",
   "metadata": {},
   "source": [
    "paso 1: construcción de tabla que contenga tanto el monto de facturación como la provincia. Luego ordenar en forma decreciente"
   ]
  },
  {
   "cell_type": "code",
   "execution_count": 13,
   "metadata": {},
   "outputs": [
    {
     "data": {
      "text/html": [
       "<div>\n",
       "<style scoped>\n",
       "    .dataframe tbody tr th:only-of-type {\n",
       "        vertical-align: middle;\n",
       "    }\n",
       "\n",
       "    .dataframe tbody tr th {\n",
       "        vertical-align: top;\n",
       "    }\n",
       "\n",
       "    .dataframe thead th {\n",
       "        text-align: right;\n",
       "    }\n",
       "</style>\n",
       "<table border=\"1\" class=\"dataframe\">\n",
       "  <thead>\n",
       "    <tr style=\"text-align: right;\">\n",
       "      <th></th>\n",
       "      <th>provincia</th>\n",
       "      <th>promedio facturacion trimestral</th>\n",
       "    </tr>\n",
       "  </thead>\n",
       "  <tbody>\n",
       "    <tr>\n",
       "      <th>0</th>\n",
       "      <td>Tierra Del Fuego</td>\n",
       "      <td>658.833158</td>\n",
       "    </tr>\n",
       "    <tr>\n",
       "      <th>1</th>\n",
       "      <td>Rio Negro</td>\n",
       "      <td>639.628144</td>\n",
       "    </tr>\n",
       "    <tr>\n",
       "      <th>2</th>\n",
       "      <td>Ciudad Autonoma De Buenos Aire</td>\n",
       "      <td>606.174212</td>\n",
       "    </tr>\n",
       "    <tr>\n",
       "      <th>3</th>\n",
       "      <td>La Rioja</td>\n",
       "      <td>591.534447</td>\n",
       "    </tr>\n",
       "    <tr>\n",
       "      <th>4</th>\n",
       "      <td>La Pampa</td>\n",
       "      <td>577.518133</td>\n",
       "    </tr>\n",
       "    <tr>\n",
       "      <th>5</th>\n",
       "      <td>Neuquen</td>\n",
       "      <td>572.055213</td>\n",
       "    </tr>\n",
       "    <tr>\n",
       "      <th>6</th>\n",
       "      <td>Santa Fe</td>\n",
       "      <td>552.297424</td>\n",
       "    </tr>\n",
       "    <tr>\n",
       "      <th>7</th>\n",
       "      <td>Chubut</td>\n",
       "      <td>551.167236</td>\n",
       "    </tr>\n",
       "    <tr>\n",
       "      <th>8</th>\n",
       "      <td>Cordoba</td>\n",
       "      <td>535.527206</td>\n",
       "    </tr>\n",
       "    <tr>\n",
       "      <th>9</th>\n",
       "      <td>Entre Rios</td>\n",
       "      <td>529.341842</td>\n",
       "    </tr>\n",
       "    <tr>\n",
       "      <th>10</th>\n",
       "      <td>Corrientes</td>\n",
       "      <td>522.017730</td>\n",
       "    </tr>\n",
       "    <tr>\n",
       "      <th>11</th>\n",
       "      <td>Santa Cruz</td>\n",
       "      <td>519.226131</td>\n",
       "    </tr>\n",
       "    <tr>\n",
       "      <th>12</th>\n",
       "      <td>Buenos Aires</td>\n",
       "      <td>513.593041</td>\n",
       "    </tr>\n",
       "    <tr>\n",
       "      <th>13</th>\n",
       "      <td>Catamarca</td>\n",
       "      <td>511.565563</td>\n",
       "    </tr>\n",
       "    <tr>\n",
       "      <th>14</th>\n",
       "      <td>Tucuman</td>\n",
       "      <td>507.036331</td>\n",
       "    </tr>\n",
       "    <tr>\n",
       "      <th>15</th>\n",
       "      <td>Chaco</td>\n",
       "      <td>500.190710</td>\n",
       "    </tr>\n",
       "    <tr>\n",
       "      <th>16</th>\n",
       "      <td>Mendoza</td>\n",
       "      <td>493.754622</td>\n",
       "    </tr>\n",
       "    <tr>\n",
       "      <th>17</th>\n",
       "      <td>San Juan</td>\n",
       "      <td>490.284235</td>\n",
       "    </tr>\n",
       "    <tr>\n",
       "      <th>18</th>\n",
       "      <td>Formosa</td>\n",
       "      <td>489.255902</td>\n",
       "    </tr>\n",
       "    <tr>\n",
       "      <th>19</th>\n",
       "      <td>Salta</td>\n",
       "      <td>488.216036</td>\n",
       "    </tr>\n",
       "    <tr>\n",
       "      <th>20</th>\n",
       "      <td>Misiones</td>\n",
       "      <td>485.319631</td>\n",
       "    </tr>\n",
       "    <tr>\n",
       "      <th>21</th>\n",
       "      <td>San Luis</td>\n",
       "      <td>485.130199</td>\n",
       "    </tr>\n",
       "    <tr>\n",
       "      <th>22</th>\n",
       "      <td>Jujuy</td>\n",
       "      <td>484.135215</td>\n",
       "    </tr>\n",
       "    <tr>\n",
       "      <th>23</th>\n",
       "      <td>Santiago Del Estero</td>\n",
       "      <td>483.480753</td>\n",
       "    </tr>\n",
       "  </tbody>\n",
       "</table>\n",
       "</div>"
      ],
      "text/plain": [
       "                         provincia  promedio facturacion trimestral\n",
       "0                 Tierra Del Fuego                       658.833158\n",
       "1                        Rio Negro                       639.628144\n",
       "2   Ciudad Autonoma De Buenos Aire                       606.174212\n",
       "3                         La Rioja                       591.534447\n",
       "4                         La Pampa                       577.518133\n",
       "5                          Neuquen                       572.055213\n",
       "6                         Santa Fe                       552.297424\n",
       "7                           Chubut                       551.167236\n",
       "8                          Cordoba                       535.527206\n",
       "9                       Entre Rios                       529.341842\n",
       "10                      Corrientes                       522.017730\n",
       "11                      Santa Cruz                       519.226131\n",
       "12                    Buenos Aires                       513.593041\n",
       "13                       Catamarca                       511.565563\n",
       "14                         Tucuman                       507.036331\n",
       "15                           Chaco                       500.190710\n",
       "16                         Mendoza                       493.754622\n",
       "17                        San Juan                       490.284235\n",
       "18                         Formosa                       489.255902\n",
       "19                           Salta                       488.216036\n",
       "20                        Misiones                       485.319631\n",
       "21                        San Luis                       485.130199\n",
       "22                           Jujuy                       484.135215\n",
       "23             Santiago Del Estero                       483.480753"
      ]
     },
     "execution_count": 13,
     "metadata": {},
     "output_type": "execute_result"
    }
   ],
   "source": [
    "facturacion_trimestral = SQL.sqldf(\"\"\"\n",
    "SELECT p.provincia, AVG(f. facturacion) \"promedio facturacion trimestral\"\n",
    "FROM facturacion f\n",
    "INNER JOIN provincia p ON\n",
    "f.nro_cliente = p.nro_cliente\n",
    "WHERE mes IN (1, 2, 3)\n",
    "GROUP BY provincia\n",
    "ORDER BY \"promedio facturacion trimestral\" DESC\n",
    "\"\"\")\n",
    "facturacion_trimestral"
   ]
  },
  {
   "cell_type": "markdown",
   "metadata": {},
   "source": [
    "paso 2 (*opcional*): si se desea únicamente la provincia con mayor facturacion ..."
   ]
  },
  {
   "cell_type": "code",
   "execution_count": 14,
   "metadata": {},
   "outputs": [
    {
     "data": {
      "text/html": [
       "<div>\n",
       "<style scoped>\n",
       "    .dataframe tbody tr th:only-of-type {\n",
       "        vertical-align: middle;\n",
       "    }\n",
       "\n",
       "    .dataframe tbody tr th {\n",
       "        vertical-align: top;\n",
       "    }\n",
       "\n",
       "    .dataframe thead th {\n",
       "        text-align: right;\n",
       "    }\n",
       "</style>\n",
       "<table border=\"1\" class=\"dataframe\">\n",
       "  <thead>\n",
       "    <tr style=\"text-align: right;\">\n",
       "      <th></th>\n",
       "      <th>provincia</th>\n",
       "      <th>promedio facturacion trimestral</th>\n",
       "    </tr>\n",
       "  </thead>\n",
       "  <tbody>\n",
       "    <tr>\n",
       "      <th>0</th>\n",
       "      <td>Tierra Del Fuego</td>\n",
       "      <td>658.833158</td>\n",
       "    </tr>\n",
       "  </tbody>\n",
       "</table>\n",
       "</div>"
      ],
      "text/plain": [
       "          provincia  promedio facturacion trimestral\n",
       "0  Tierra Del Fuego                       658.833158"
      ]
     },
     "execution_count": 14,
     "metadata": {},
     "output_type": "execute_result"
    }
   ],
   "source": [
    "facturacion_trimestral.iloc[:1, :] #también es posible resolverlo con un query SQL \"LIMIT 1\""
   ]
  },
  {
   "cell_type": "markdown",
   "metadata": {},
   "source": [
    "## Ejercicio 5 <a id='ej5'></a>\n",
    "[Volver al inicio](#inicio)\n",
    "### Hay alguna relación entre la facturación y la duración de llamadas (hay alguna métrica estadística que lo sustente?)"
   ]
  },
  {
   "cell_type": "markdown",
   "metadata": {},
   "source": [
    "paso 1: construir tabla que contenga ambas variables."
   ]
  },
  {
   "cell_type": "code",
   "execution_count": 15,
   "metadata": {},
   "outputs": [
    {
     "data": {
      "text/html": [
       "<div>\n",
       "<style scoped>\n",
       "    .dataframe tbody tr th:only-of-type {\n",
       "        vertical-align: middle;\n",
       "    }\n",
       "\n",
       "    .dataframe tbody tr th {\n",
       "        vertical-align: top;\n",
       "    }\n",
       "\n",
       "    .dataframe thead th {\n",
       "        text-align: right;\n",
       "    }\n",
       "</style>\n",
       "<table border=\"1\" class=\"dataframe\">\n",
       "  <thead>\n",
       "    <tr style=\"text-align: right;\">\n",
       "      <th></th>\n",
       "      <th>Duracion_Llamadas_minutos</th>\n",
       "      <th>facturacion</th>\n",
       "    </tr>\n",
       "  </thead>\n",
       "  <tbody>\n",
       "    <tr>\n",
       "      <th>0</th>\n",
       "      <td>30</td>\n",
       "      <td>1352.8632</td>\n",
       "    </tr>\n",
       "    <tr>\n",
       "      <th>1</th>\n",
       "      <td>60</td>\n",
       "      <td>600.7176</td>\n",
       "    </tr>\n",
       "    <tr>\n",
       "      <th>2</th>\n",
       "      <td>77</td>\n",
       "      <td>600.7176</td>\n",
       "    </tr>\n",
       "    <tr>\n",
       "      <th>3</th>\n",
       "      <td>188</td>\n",
       "      <td>600.7176</td>\n",
       "    </tr>\n",
       "    <tr>\n",
       "      <th>4</th>\n",
       "      <td>217</td>\n",
       "      <td>600.7176</td>\n",
       "    </tr>\n",
       "    <tr>\n",
       "      <th>...</th>\n",
       "      <td>...</td>\n",
       "      <td>...</td>\n",
       "    </tr>\n",
       "    <tr>\n",
       "      <th>7204</th>\n",
       "      <td>126</td>\n",
       "      <td>399.5000</td>\n",
       "    </tr>\n",
       "    <tr>\n",
       "      <th>7205</th>\n",
       "      <td>120</td>\n",
       "      <td>409.9789</td>\n",
       "    </tr>\n",
       "    <tr>\n",
       "      <th>7206</th>\n",
       "      <td>30</td>\n",
       "      <td>279.6500</td>\n",
       "    </tr>\n",
       "    <tr>\n",
       "      <th>7207</th>\n",
       "      <td>74</td>\n",
       "      <td>159.8000</td>\n",
       "    </tr>\n",
       "    <tr>\n",
       "      <th>7208</th>\n",
       "      <td>119</td>\n",
       "      <td>332.0370</td>\n",
       "    </tr>\n",
       "  </tbody>\n",
       "</table>\n",
       "<p>7209 rows × 2 columns</p>\n",
       "</div>"
      ],
      "text/plain": [
       "      Duracion_Llamadas_minutos  facturacion\n",
       "0                            30    1352.8632\n",
       "1                            60     600.7176\n",
       "2                            77     600.7176\n",
       "3                           188     600.7176\n",
       "4                           217     600.7176\n",
       "...                         ...          ...\n",
       "7204                        126     399.5000\n",
       "7205                        120     409.9789\n",
       "7206                         30     279.6500\n",
       "7207                         74     159.8000\n",
       "7208                        119     332.0370\n",
       "\n",
       "[7209 rows x 2 columns]"
      ]
     },
     "execution_count": 15,
     "metadata": {},
     "output_type": "execute_result"
    }
   ],
   "source": [
    "facturacion_llamadas = SQL.sqldf(\"\"\"\n",
    "    SELECT l.Duracion_Llamadas_minutos, f.facturacion\n",
    "    FROM llamadas l\n",
    "    INNER JOIN facturacion f ON\n",
    "    l.nro_cliente = f.nro_cliente\n",
    "    WHERE facturacion > 0 --las facturaciones nulas pueden alterar los ejercicios siguientes\n",
    "\"\"\")\n",
    "facturacion_llamadas"
   ]
  },
  {
   "cell_type": "markdown",
   "metadata": {},
   "source": [
    "paso 2: plot + histogramas"
   ]
  },
  {
   "cell_type": "code",
   "execution_count": 16,
   "metadata": {},
   "outputs": [
    {
     "data": {
      "text/plain": [
       "<seaborn.axisgrid.PairGrid at 0x1a628fca4c8>"
      ]
     },
     "execution_count": 16,
     "metadata": {},
     "output_type": "execute_result"
    },
    {
     "data": {
      "image/png": "[encoded data removed]",
      "text/plain": [
       "<Figure size 432x432 with 6 Axes>"
      ]
     },
     "metadata": {
      "needs_background": "light"
     },
     "output_type": "display_data"
    }
   ],
   "source": [
    "sns.pairplot(facturacion_llamadas, height=3, palette=\"husl\")"
   ]
  },
  {
   "cell_type": "markdown",
   "metadata": {},
   "source": [
    "El gráfico no parece mostrar una relación lineal evidente entre las variables. Sin embargo, se aprecia una caída de los valores extremos de duración de llamada a medida que incrementa el monto de facturación. Cabe considerar la posibilidad de una curva de ajuste no lineal."
   ]
  },
  {
   "cell_type": "markdown",
   "metadata": {},
   "source": [
    "paso 2 bis: adición de curva de regresión"
   ]
  },
  {
   "cell_type": "code",
   "execution_count": 17,
   "metadata": {},
   "outputs": [
    {
     "data": {
      "text/plain": [
       "<matplotlib.axes._subplots.AxesSubplot at 0x1a62a340b48>"
      ]
     },
     "execution_count": 17,
     "metadata": {},
     "output_type": "execute_result"
    },
    {
     "data": {
      "image/png": "[encoded data removed]",
      "text/plain": [
       "<Figure size 432x288 with 1 Axes>"
      ]
     },
     "metadata": {
      "needs_background": "light"
     },
     "output_type": "display_data"
    }
   ],
   "source": [
    "sns.regplot(data=facturacion_llamadas, x=\"facturacion\", y=\"Duracion_Llamadas_minutos\", lowess=True, line_kws={\"color\": \"red\"}, scatter_kws={'alpha':0.3})"
   ]
  },
  {
   "cell_type": "markdown",
   "metadata": {},
   "source": [
    "El gráfico muestra en color <span style=\"color:red\">rojo</span> la curva que mejor se ajusta a los datos (color <span style=\"color:blue\">azul</span>). Si bien el gráfico de dispersión parece formar una relación exponencial negativa, la gran cantidad de datos bajos (debajo de *2000* minutos) mantiene dicha linea recta como mejor ajuste. Los datos superiores a *2000* entonces no generan gravitación suficiente sobre el conjunto de datos."
   ]
  },
  {
   "cell_type": "markdown",
   "metadata": {},
   "source": [
    "paso 3: análisis de correlación"
   ]
  },
  {
   "cell_type": "code",
   "execution_count": 18,
   "metadata": {},
   "outputs": [
    {
     "data": {
      "text/html": [
       "<div>\n",
       "<style scoped>\n",
       "    .dataframe tbody tr th:only-of-type {\n",
       "        vertical-align: middle;\n",
       "    }\n",
       "\n",
       "    .dataframe tbody tr th {\n",
       "        vertical-align: top;\n",
       "    }\n",
       "\n",
       "    .dataframe thead th {\n",
       "        text-align: right;\n",
       "    }\n",
       "</style>\n",
       "<table border=\"1\" class=\"dataframe\">\n",
       "  <thead>\n",
       "    <tr style=\"text-align: right;\">\n",
       "      <th></th>\n",
       "      <th>Duracion_Llamadas_minutos</th>\n",
       "      <th>facturacion</th>\n",
       "    </tr>\n",
       "  </thead>\n",
       "  <tbody>\n",
       "    <tr>\n",
       "      <th>Duracion_Llamadas_minutos</th>\n",
       "      <td>1.000000</td>\n",
       "      <td>-0.020872</td>\n",
       "    </tr>\n",
       "    <tr>\n",
       "      <th>facturacion</th>\n",
       "      <td>-0.020872</td>\n",
       "      <td>1.000000</td>\n",
       "    </tr>\n",
       "  </tbody>\n",
       "</table>\n",
       "</div>"
      ],
      "text/plain": [
       "                           Duracion_Llamadas_minutos  facturacion\n",
       "Duracion_Llamadas_minutos                   1.000000    -0.020872\n",
       "facturacion                                -0.020872     1.000000"
      ]
     },
     "execution_count": 18,
     "metadata": {},
     "output_type": "execute_result"
    }
   ],
   "source": [
    "facturacion_llamadas.corr()"
   ]
  },
  {
   "cell_type": "markdown",
   "metadata": {},
   "source": [
    "Se demuestra nuevamente que la relacion lineal entre las variables es muy débil. La proporción negativa resulta mínima."
   ]
  },
  {
   "cell_type": "markdown",
   "metadata": {},
   "source": [
    "## Ejercicio 6 <a id='ej6'></a>\n",
    "[Volver al inicio](#inicio)\n",
    "### Hay alguna relación entre la facturación y el cambio de plan. (hay alguna métrica estadística que lo sustente?)"
   ]
  },
  {
   "cell_type": "markdown",
   "metadata": {},
   "source": [
    "paso 1: construir tabla que contenga ambas variables."
   ]
  },
  {
   "cell_type": "code",
   "execution_count": 19,
   "metadata": {},
   "outputs": [
    {
     "data": {
      "text/html": [
       "<div>\n",
       "<style scoped>\n",
       "    .dataframe tbody tr th:only-of-type {\n",
       "        vertical-align: middle;\n",
       "    }\n",
       "\n",
       "    .dataframe tbody tr th {\n",
       "        vertical-align: top;\n",
       "    }\n",
       "\n",
       "    .dataframe thead th {\n",
       "        text-align: right;\n",
       "    }\n",
       "</style>\n",
       "<table border=\"1\" class=\"dataframe\">\n",
       "  <thead>\n",
       "    <tr style=\"text-align: right;\">\n",
       "      <th></th>\n",
       "      <th>facturacion</th>\n",
       "      <th>numero de planes usados</th>\n",
       "    </tr>\n",
       "  </thead>\n",
       "  <tbody>\n",
       "    <tr>\n",
       "      <th>0</th>\n",
       "      <td>935.8301</td>\n",
       "      <td>2</td>\n",
       "    </tr>\n",
       "    <tr>\n",
       "      <th>1</th>\n",
       "      <td>1352.8632</td>\n",
       "      <td>1</td>\n",
       "    </tr>\n",
       "    <tr>\n",
       "      <th>2</th>\n",
       "      <td>602.0372</td>\n",
       "      <td>1</td>\n",
       "    </tr>\n",
       "    <tr>\n",
       "      <th>3</th>\n",
       "      <td>847.5758</td>\n",
       "      <td>2</td>\n",
       "    </tr>\n",
       "    <tr>\n",
       "      <th>4</th>\n",
       "      <td>423.7930</td>\n",
       "      <td>2</td>\n",
       "    </tr>\n",
       "    <tr>\n",
       "      <th>...</th>\n",
       "      <td>...</td>\n",
       "      <td>...</td>\n",
       "    </tr>\n",
       "    <tr>\n",
       "      <th>30826</th>\n",
       "      <td>593.2979</td>\n",
       "      <td>1</td>\n",
       "    </tr>\n",
       "    <tr>\n",
       "      <th>30827</th>\n",
       "      <td>199.7500</td>\n",
       "      <td>2</td>\n",
       "    </tr>\n",
       "    <tr>\n",
       "      <th>30828</th>\n",
       "      <td>566.2178</td>\n",
       "      <td>1</td>\n",
       "    </tr>\n",
       "    <tr>\n",
       "      <th>30829</th>\n",
       "      <td>79.9000</td>\n",
       "      <td>1</td>\n",
       "    </tr>\n",
       "    <tr>\n",
       "      <th>30830</th>\n",
       "      <td>87.8900</td>\n",
       "      <td>1</td>\n",
       "    </tr>\n",
       "  </tbody>\n",
       "</table>\n",
       "<p>30831 rows × 2 columns</p>\n",
       "</div>"
      ],
      "text/plain": [
       "       facturacion  numero de planes usados\n",
       "0         935.8301                        2\n",
       "1        1352.8632                        1\n",
       "2         602.0372                        1\n",
       "3         847.5758                        2\n",
       "4         423.7930                        2\n",
       "...            ...                      ...\n",
       "30826     593.2979                        1\n",
       "30827     199.7500                        2\n",
       "30828     566.2178                        1\n",
       "30829      79.9000                        1\n",
       "30830      87.8900                        1\n",
       "\n",
       "[30831 rows x 2 columns]"
      ]
     },
     "execution_count": 19,
     "metadata": {},
     "output_type": "execute_result"
    }
   ],
   "source": [
    "facturacion_planes = SQL.sqldf(\"\"\"\n",
    "    SELECT f.facturacion, c.\"numero de planes usados\"\n",
    "    FROM facturacion f\n",
    "    INNER JOIN cliente_cambio_plan c ON\n",
    "    f.nro_cliente = c.nro_cliente\n",
    "    WHERE facturacion > 0 --las facturaciones nulas pueden alterar los ejercicios siguientes\n",
    "\"\"\")\n",
    "facturacion_planes"
   ]
  },
  {
   "cell_type": "markdown",
   "metadata": {},
   "source": [
    "paso 2: plot + histogramas "
   ]
  },
  {
   "cell_type": "code",
   "execution_count": 20,
   "metadata": {},
   "outputs": [
    {
     "data": {
      "text/plain": [
       "'El histograma demuestra que la mayor cantidad de personas realizaron 1 modificación de su plan, mientras que sólo una minoría modificó su plan 2 veces durante el trimestre'"
      ]
     },
     "execution_count": 20,
     "metadata": {},
     "output_type": "execute_result"
    },
    {
     "data": {
      "image/png": "[encoded data removed]",
      "text/plain": [
       "<Figure size 432x432 with 6 Axes>"
      ]
     },
     "metadata": {
      "needs_background": "light"
     },
     "output_type": "display_data"
    }
   ],
   "source": [
    "sns.pairplot(facturacion_planes, height=3, palette=\"husl\")\n",
    "'''El histograma demuestra que la mayor cantidad de personas realizaron 1 modificación de su plan, mientras que sólo una minoría modificó su plan 2 veces durante el trimestre'''"
   ]
  },
  {
   "cell_type": "markdown",
   "metadata": {},
   "source": [
    "paso 3: estadísticos descriptivos generales del set"
   ]
  },
  {
   "cell_type": "code",
   "execution_count": 21,
   "metadata": {},
   "outputs": [
    {
     "data": {
      "text/html": [
       "<div>\n",
       "<style scoped>\n",
       "    .dataframe tbody tr th:only-of-type {\n",
       "        vertical-align: middle;\n",
       "    }\n",
       "\n",
       "    .dataframe tbody tr th {\n",
       "        vertical-align: top;\n",
       "    }\n",
       "\n",
       "    .dataframe thead tr th {\n",
       "        text-align: left;\n",
       "    }\n",
       "\n",
       "    .dataframe thead tr:last-of-type th {\n",
       "        text-align: right;\n",
       "    }\n",
       "</style>\n",
       "<table border=\"1\" class=\"dataframe\">\n",
       "  <thead>\n",
       "    <tr>\n",
       "      <th></th>\n",
       "      <th colspan=\"8\" halign=\"left\">facturacion</th>\n",
       "    </tr>\n",
       "    <tr>\n",
       "      <th></th>\n",
       "      <th>count</th>\n",
       "      <th>mean</th>\n",
       "      <th>std</th>\n",
       "      <th>min</th>\n",
       "      <th>25%</th>\n",
       "      <th>50%</th>\n",
       "      <th>75%</th>\n",
       "      <th>max</th>\n",
       "    </tr>\n",
       "    <tr>\n",
       "      <th>numero de planes usados</th>\n",
       "      <th></th>\n",
       "      <th></th>\n",
       "      <th></th>\n",
       "      <th></th>\n",
       "      <th></th>\n",
       "      <th></th>\n",
       "      <th></th>\n",
       "      <th></th>\n",
       "    </tr>\n",
       "  </thead>\n",
       "  <tbody>\n",
       "    <tr>\n",
       "      <th>1</th>\n",
       "      <td>14545.0</td>\n",
       "      <td>561.758888</td>\n",
       "      <td>242.531799</td>\n",
       "      <td>0.0101</td>\n",
       "      <td>409.97890</td>\n",
       "      <td>494.4167</td>\n",
       "      <td>619.698100</td>\n",
       "      <td>4111.4854</td>\n",
       "    </tr>\n",
       "    <tr>\n",
       "      <th>2</th>\n",
       "      <td>15652.0</td>\n",
       "      <td>564.205048</td>\n",
       "      <td>264.913767</td>\n",
       "      <td>8.1201</td>\n",
       "      <td>409.97890</td>\n",
       "      <td>494.4167</td>\n",
       "      <td>666.032100</td>\n",
       "      <td>3390.3132</td>\n",
       "    </tr>\n",
       "    <tr>\n",
       "      <th>3</th>\n",
       "      <td>634.0</td>\n",
       "      <td>531.109469</td>\n",
       "      <td>272.967574</td>\n",
       "      <td>19.9750</td>\n",
       "      <td>377.73195</td>\n",
       "      <td>485.4746</td>\n",
       "      <td>668.655525</td>\n",
       "      <td>1999.0121</td>\n",
       "    </tr>\n",
       "  </tbody>\n",
       "</table>\n",
       "</div>"
      ],
      "text/plain": [
       "                        facturacion                                   \\\n",
       "                              count        mean         std      min   \n",
       "numero de planes usados                                                \n",
       "1                           14545.0  561.758888  242.531799   0.0101   \n",
       "2                           15652.0  564.205048  264.913767   8.1201   \n",
       "3                             634.0  531.109469  272.967574  19.9750   \n",
       "\n",
       "                                                                     \n",
       "                               25%       50%         75%        max  \n",
       "numero de planes usados                                              \n",
       "1                        409.97890  494.4167  619.698100  4111.4854  \n",
       "2                        409.97890  494.4167  666.032100  3390.3132  \n",
       "3                        377.73195  485.4746  668.655525  1999.0121  "
      ]
     },
     "execution_count": 21,
     "metadata": {},
     "output_type": "execute_result"
    }
   ],
   "source": [
    "facturacion_planes.groupby(\"numero de planes usados\").describe()"
   ]
  },
  {
   "cell_type": "markdown",
   "metadata": {},
   "source": [
    "paso 4: gráfico comparativo"
   ]
  },
  {
   "cell_type": "code",
   "execution_count": 22,
   "metadata": {},
   "outputs": [
    {
     "data": {
      "text/plain": [
       "<matplotlib.axes._subplots.AxesSubplot at 0x1a6293938c8>"
      ]
     },
     "execution_count": 22,
     "metadata": {},
     "output_type": "execute_result"
    },
    {
     "data": {
      "image/png": "[encoded data removed]",
      "text/plain": [
       "<Figure size 432x288 with 1 Axes>"
      ]
     },
     "metadata": {
      "needs_background": "light"
     },
     "output_type": "display_data"
    }
   ],
   "source": [
    "sns.regplot(data=facturacion_planes, y=\"facturacion\", x=\"numero de planes usados\", lowess=True, line_kws={\"color\": \"red\"})"
   ]
  },
  {
   "cell_type": "markdown",
   "metadata": {},
   "source": [
    "Si bien no se expresa una relación lineal clara, sí es posible observar que el grupo con mayor cantidad de cambio de planes es el que menor facturación recibió. Por otro lado, no se manifiesta una diferencia significativa entre el grupo sin cambios y el grupo de cambio único"
   ]
  },
  {
   "cell_type": "markdown",
   "metadata": {},
   "source": [
    "*alternativa*: es posible unificar las categorías en forma binomial, de la forma \"cambió de plan\" (1) Vs. \"no cambió de plan\" (0)\n"
   ]
  },
  {
   "cell_type": "code",
   "execution_count": 23,
   "metadata": {},
   "outputs": [],
   "source": [
    "facturacion_planes[\"numero de planes usados\"] = facturacion_planes[\"numero de planes usados\"].replace([1], 0) \n",
    "facturacion_planes[\"numero de planes usados\"] = facturacion_planes[\"numero de planes usados\"].replace([2, 3], 1) "
   ]
  },
  {
   "cell_type": "code",
   "execution_count": 24,
   "metadata": {},
   "outputs": [
    {
     "data": {
      "text/html": [
       "<div>\n",
       "<style scoped>\n",
       "    .dataframe tbody tr th:only-of-type {\n",
       "        vertical-align: middle;\n",
       "    }\n",
       "\n",
       "    .dataframe tbody tr th {\n",
       "        vertical-align: top;\n",
       "    }\n",
       "\n",
       "    .dataframe thead tr th {\n",
       "        text-align: left;\n",
       "    }\n",
       "\n",
       "    .dataframe thead tr:last-of-type th {\n",
       "        text-align: right;\n",
       "    }\n",
       "</style>\n",
       "<table border=\"1\" class=\"dataframe\">\n",
       "  <thead>\n",
       "    <tr>\n",
       "      <th></th>\n",
       "      <th colspan=\"8\" halign=\"left\">facturacion</th>\n",
       "    </tr>\n",
       "    <tr>\n",
       "      <th></th>\n",
       "      <th>count</th>\n",
       "      <th>mean</th>\n",
       "      <th>std</th>\n",
       "      <th>min</th>\n",
       "      <th>25%</th>\n",
       "      <th>50%</th>\n",
       "      <th>75%</th>\n",
       "      <th>max</th>\n",
       "    </tr>\n",
       "    <tr>\n",
       "      <th>numero de planes usados</th>\n",
       "      <th></th>\n",
       "      <th></th>\n",
       "      <th></th>\n",
       "      <th></th>\n",
       "      <th></th>\n",
       "      <th></th>\n",
       "      <th></th>\n",
       "      <th></th>\n",
       "    </tr>\n",
       "  </thead>\n",
       "  <tbody>\n",
       "    <tr>\n",
       "      <th>0</th>\n",
       "      <td>14545.0</td>\n",
       "      <td>561.758888</td>\n",
       "      <td>242.531799</td>\n",
       "      <td>0.0101</td>\n",
       "      <td>409.9789</td>\n",
       "      <td>494.4167</td>\n",
       "      <td>619.6981</td>\n",
       "      <td>4111.4854</td>\n",
       "    </tr>\n",
       "    <tr>\n",
       "      <th>1</th>\n",
       "      <td>16286.0</td>\n",
       "      <td>562.916666</td>\n",
       "      <td>265.300512</td>\n",
       "      <td>8.1201</td>\n",
       "      <td>409.9789</td>\n",
       "      <td>494.4167</td>\n",
       "      <td>666.0321</td>\n",
       "      <td>3390.3132</td>\n",
       "    </tr>\n",
       "  </tbody>\n",
       "</table>\n",
       "</div>"
      ],
      "text/plain": [
       "                        facturacion                                            \\\n",
       "                              count        mean         std     min       25%   \n",
       "numero de planes usados                                                         \n",
       "0                           14545.0  561.758888  242.531799  0.0101  409.9789   \n",
       "1                           16286.0  562.916666  265.300512  8.1201  409.9789   \n",
       "\n",
       "                                                        \n",
       "                              50%       75%        max  \n",
       "numero de planes usados                                 \n",
       "0                        494.4167  619.6981  4111.4854  \n",
       "1                        494.4167  666.0321  3390.3132  "
      ]
     },
     "execution_count": 24,
     "metadata": {},
     "output_type": "execute_result"
    }
   ],
   "source": [
    "facturacion_planes.groupby(\"numero de planes usados\").describe()"
   ]
  },
  {
   "cell_type": "code",
   "execution_count": 25,
   "metadata": {},
   "outputs": [
    {
     "data": {
      "text/plain": [
       "<matplotlib.axes._subplots.AxesSubplot at 0x1a629998908>"
      ]
     },
     "execution_count": 25,
     "metadata": {},
     "output_type": "execute_result"
    },
    {
     "data": {
      "image/png": "[encoded data removed]",
      "text/plain": [
       "<Figure size 432x288 with 1 Axes>"
      ]
     },
     "metadata": {
      "needs_background": "light"
     },
     "output_type": "display_data"
    }
   ],
   "source": [
    "sns.regplot(data=facturacion_planes, y=\"facturacion\", x=\"numero de planes usados\", fit_reg=True, line_kws={\"color\": \"red\"})"
   ]
  },
  {
   "cell_type": "markdown",
   "metadata": {},
   "source": [
    "En la aplicación de categorías dicotómicas, no se observan diferencias significativas entre grupos."
   ]
  },
  {
   "cell_type": "markdown",
   "metadata": {},
   "source": [
    "## Ejercicio 7 <a id='ej7'></a>\n",
    "[Volver al inicio](#inicio)\n",
    "### En base a lo que pudiste ver en las tablas anteriores que otra fuente de datos crees que seria interesante agregar para profundizar el análisis"
   ]
  },
  {
   "cell_type": "markdown",
   "metadata": {},
   "source": [
    "Existen otro tipo de variables que permitirían conocer con mayor profundidad los diferentes perfiles de clientes \n",
    "que consumen los servicios ofrecidos por la empresa. Variables de esta índole pueden ser:\n",
    "- Edad\n",
    "- Ingreso bruto\n",
    "- Integrantes de familia\n",
    "- Nivel educativo\n",
    "\n",
    "Esta información adicional podría ser utilizada para evidenciar segmentos o clusterizados de clientes, identificados por características de consumos particulares. A su vez, sería interesante contar con resultados de UX para sondear la respuesta ante la calidad de servicio ofrecido, y actuar en consecuencia. A estos últimos indicadores podría agregarse la cantidad de usuarios de alta, con el objeto de configurar paquetes y beneficios a conveniencia.\n",
    "\n",
    "Por último, es de destacar que el presente análisis se efectuó con una única variable monetaria. Otro tipo de estudio, como por ejemplo riesgo de deuda, también sería posible accediendo a variables como deudores morosos o clientes dados de baja.\n"
   ]
  }
 ],
 "metadata": {
  "kernelspec": {
   "display_name": "Python 3",
   "language": "python",
   "name": "python3"
  },
  "language_info": {
   "codemirror_mode": {
    "name": "ipython",
    "version": 3
   },
   "file_extension": ".py",
   "mimetype": "text/x-python",
   "name": "python",
   "nbconvert_exporter": "python",
   "pygments_lexer": "ipython3",
   "version": "3.7.7"
  }
 },
 "nbformat": 4,
 "nbformat_minor": 2
}
